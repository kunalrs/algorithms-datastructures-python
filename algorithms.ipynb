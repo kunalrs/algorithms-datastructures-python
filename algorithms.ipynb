{
 "cells": [
  {
   "cell_type": "markdown",
   "metadata": {},
   "source": [
    "# Selection Sort"
   ]
  },
  {
   "cell_type": "code",
   "execution_count": 45,
   "metadata": {},
   "outputs": [],
   "source": [
    "a = [10, 1, 4, 2, 9, 3, 6, 8, 7, 5]"
   ]
  },
  {
   "cell_type": "code",
   "execution_count": 46,
   "metadata": {},
   "outputs": [],
   "source": [
    "def selection_sort(arr):\n",
    "    '''This function will return a sorted array, it uses selection sort algorithm'''    \n",
    "    for i in range(0, len(arr)):\n",
    "        \n",
    "        min_index = i\n",
    "        \n",
    "        for j in range(i + 1, len(arr)):\n",
    "            if(arr[min_index] > arr[j]):\n",
    "                min_index = j\n",
    "        \n",
    "        \n",
    "        k = arr[i] \n",
    "        arr[i] = arr[min_index]\n",
    "        arr[min_index] = k\n",
    "    \n",
    "    return arr\n",
    "            \n",
    "    "
   ]
  },
  {
   "cell_type": "code",
   "execution_count": 47,
   "metadata": {},
   "outputs": [
    {
     "data": {
      "text/plain": [
       "\u001b[0;31mSignature:\u001b[0m \u001b[0mselection_sort\u001b[0m\u001b[0;34m(\u001b[0m\u001b[0marr\u001b[0m\u001b[0;34m)\u001b[0m\u001b[0;34m\u001b[0m\u001b[0;34m\u001b[0m\u001b[0m\n",
       "\u001b[0;31mDocstring:\u001b[0m This function will return a sorted array, it uses selection sort algorithm\n",
       "\u001b[0;31mFile:\u001b[0m      ~/Workspace/DeepLearning/lab/<ipython-input-46-42bab93fc45f>\n",
       "\u001b[0;31mType:\u001b[0m      function\n"
      ]
     },
     "metadata": {},
     "output_type": "display_data"
    }
   ],
   "source": [
    "selection_sort?"
   ]
  },
  {
   "cell_type": "code",
   "execution_count": 48,
   "metadata": {},
   "outputs": [
    {
     "name": "stdout",
     "output_type": "stream",
     "text": [
      "[1, 2, 3, 4, 5, 6, 7, 8, 9, 10]\n"
     ]
    }
   ],
   "source": [
    "print(selection_sort(a))"
   ]
  },
  {
   "cell_type": "markdown",
   "metadata": {},
   "source": [
    "# Insertion Sort"
   ]
  },
  {
   "cell_type": "code",
   "execution_count": 49,
   "metadata": {},
   "outputs": [],
   "source": [
    "A = [64, 25, 12, 22, 11] "
   ]
  },
  {
   "cell_type": "code",
   "execution_count": 50,
   "metadata": {},
   "outputs": [],
   "source": [
    "def insertion_sort(arr):\n",
    "    '''This function will return a sorted array, it uses insertion sort algorithm'''    \n",
    "    for i in range(1, len(arr)):\n",
    "        k = arr[i]\n",
    "\n",
    "        for j in range(i, -1, -1):            \n",
    "            if arr[j] > k:\n",
    "                arr[j + 1] = arr[j]\n",
    "                arr[j] = k\n",
    "\n",
    "    return arr;"
   ]
  },
  {
   "cell_type": "code",
   "execution_count": 51,
   "metadata": {},
   "outputs": [
    {
     "data": {
      "text/plain": [
       "[11, 12, 22, 25, 64]"
      ]
     },
     "execution_count": 51,
     "metadata": {},
     "output_type": "execute_result"
    }
   ],
   "source": [
    "insertion_sort(A)"
   ]
  },
  {
   "cell_type": "code",
   "execution_count": 52,
   "metadata": {},
   "outputs": [],
   "source": [
    "B = [2, 4,11, 98, 32, 1, 0]"
   ]
  },
  {
   "cell_type": "code",
   "execution_count": 53,
   "metadata": {},
   "outputs": [
    {
     "data": {
      "text/plain": [
       "[0, 1, 2, 4, 11, 32, 98]"
      ]
     },
     "execution_count": 53,
     "metadata": {},
     "output_type": "execute_result"
    }
   ],
   "source": [
    "insertion_sort(B)"
   ]
  },
  {
   "cell_type": "markdown",
   "metadata": {},
   "source": [
    "# Recursion"
   ]
  },
  {
   "cell_type": "code",
   "execution_count": 54,
   "metadata": {},
   "outputs": [],
   "source": [
    "def fact(n):\n",
    "    if(n <= 0):\n",
    "        return 1\n",
    "    else:\n",
    "        return n * fact(n - 1)"
   ]
  },
  {
   "cell_type": "code",
   "execution_count": 55,
   "metadata": {},
   "outputs": [
    {
     "data": {
      "text/plain": [
       "3628800"
      ]
     },
     "execution_count": 55,
     "metadata": {},
     "output_type": "execute_result"
    }
   ],
   "source": [
    "fact(10)"
   ]
  },
  {
   "cell_type": "code",
   "execution_count": 56,
   "metadata": {},
   "outputs": [
    {
     "data": {
      "text/plain": [
       "24"
      ]
     },
     "execution_count": 56,
     "metadata": {},
     "output_type": "execute_result"
    }
   ],
   "source": [
    "fact(4)"
   ]
  },
  {
   "cell_type": "markdown",
   "metadata": {},
   "source": [
    "# Binary Search"
   ]
  },
  {
   "cell_type": "code",
   "execution_count": 57,
   "metadata": {},
   "outputs": [],
   "source": [
    "import pdb"
   ]
  },
  {
   "cell_type": "code",
   "execution_count": 58,
   "metadata": {},
   "outputs": [],
   "source": [
    "A = [1, 2, 3, 4, 5, 6, 7, 8, 9, 10]"
   ]
  },
  {
   "cell_type": "code",
   "execution_count": 59,
   "metadata": {},
   "outputs": [],
   "source": [
    "def binary_search(arr, start_index, end_index, k): \n",
    "    #pdb.set_trace() #enable this to debug\n",
    "    if end_index > start_index:\n",
    "        # find mid\n",
    "        mid = int(start_index + ((end_index - start_index) / 2))\n",
    "        \n",
    "        # check if element is greater than or less than mid\n",
    "        if k > arr[mid]:\n",
    "            #if k > mid then k must be on right side of array\n",
    "            return binary_search(arr, mid + 1, end_index, k)\n",
    "        elif k < arr[mid]:\n",
    "            # if k < mid then k must be on left side of array\n",
    "            return binary_search(arr, start_index, mid - 1, k)\n",
    "        elif k == arr[mid]:\n",
    "            return mid\n",
    "    else:\n",
    "        return -1"
   ]
  },
  {
   "cell_type": "code",
   "execution_count": 60,
   "metadata": {},
   "outputs": [
    {
     "data": {
      "text/plain": [
       "-1"
      ]
     },
     "execution_count": 60,
     "metadata": {},
     "output_type": "execute_result"
    }
   ],
   "source": [
    "binary_search(A, 0, len(A), 100)"
   ]
  },
  {
   "cell_type": "markdown",
   "metadata": {},
   "source": [
    "# Merge Sort"
   ]
  },
  {
   "cell_type": "code",
   "execution_count": 61,
   "metadata": {},
   "outputs": [],
   "source": [
    "def merge(arr, l, m, r):\n",
    "    n1 = m - l + 1\n",
    "    n2 = r - m\n",
    "    \n",
    "    X = [0] * n1\n",
    "    Y = [0] * n2\n",
    "    \n",
    "    for i in range(0, n1):\n",
    "        X[i] = arr[l + i]\n",
    "        \n",
    "    for j in range(0, n2):\n",
    "        Y[j] = arr[m + 1 + j]\n",
    "        \n",
    "    i = 0\n",
    "    j = 0\n",
    "    k = l\n",
    "    \n",
    "    while i < n1 and j < n2 :\n",
    "        if(X[i] > Y[j]):\n",
    "            arr[k] = Y[j]\n",
    "            j += 1\n",
    "        else:\n",
    "            arr[k] = X[i]\n",
    "            i += 1\n",
    "        k += 1\n",
    "    \n",
    "    \n",
    "    while (i < n1):\n",
    "        arr[k] = X[i]\n",
    "        i += 1\n",
    "        k += 1\n",
    "        \n",
    "    while (j < n2):\n",
    "        arr[k] = Y[j]\n",
    "        j += 1\n",
    "        k += 1\n",
    "    \n",
    "    \n",
    "def merge_sort(arr, l, r):\n",
    "    if l < r:\n",
    "        mid = int(l + ((r -l) / 2)  )\n",
    "        merge_sort(arr, l, mid)\n",
    "        merge_sort(arr, mid + 1, r)\n",
    "        merge(arr, l, mid, r)\n",
    "    \n",
    "        "
   ]
  },
  {
   "cell_type": "code",
   "execution_count": 62,
   "metadata": {},
   "outputs": [
    {
     "name": "stdout",
     "output_type": "stream",
     "text": [
      "[4, 7, 1, 3, 10, 8, 9]\n"
     ]
    }
   ],
   "source": [
    "A = [4,7,1,3,10,8,9]\n",
    "print(A)"
   ]
  },
  {
   "cell_type": "code",
   "execution_count": 63,
   "metadata": {},
   "outputs": [],
   "source": [
    "merge_sort(A, 0, len(A) - 1)"
   ]
  },
  {
   "cell_type": "code",
   "execution_count": 65,
   "metadata": {},
   "outputs": [
    {
     "name": "stdout",
     "output_type": "stream",
     "text": [
      "[1, 3, 4, 7, 8, 9, 10]\n"
     ]
    }
   ],
   "source": [
    "print(A)"
   ]
  },
  {
   "cell_type": "code",
   "execution_count": null,
   "metadata": {},
   "outputs": [],
   "source": []
  }
 ],
 "metadata": {
  "kernelspec": {
   "display_name": "Python 3",
   "language": "python",
   "name": "python3"
  },
  "language_info": {
   "codemirror_mode": {
    "name": "ipython",
    "version": 3
   },
   "file_extension": ".py",
   "mimetype": "text/x-python",
   "name": "python",
   "nbconvert_exporter": "python",
   "pygments_lexer": "ipython3",
   "version": "3.7.4"
  }
 },
 "nbformat": 4,
 "nbformat_minor": 4
}
